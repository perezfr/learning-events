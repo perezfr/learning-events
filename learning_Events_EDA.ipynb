{
  "nbformat": 4,
  "nbformat_minor": 0,
  "metadata": {
    "colab": {
      "name": "learning_Events_EDA.ipynb",
      "version": "0.3.2",
      "provenance": [],
      "collapsed_sections": [],
      "include_colab_link": true
    },
    "kernelspec": {
      "display_name": "Python 3",
      "language": "python",
      "name": "python3"
    }
  },
  "cells": [
    {
      "cell_type": "markdown",
      "metadata": {
        "id": "view-in-github",
        "colab_type": "text"
      },
      "source": [
        "<a href=\"https://colab.research.google.com/github/perezfr/learning-events/blob/master/learning_Events_EDA.ipynb\" target=\"_parent\"><img src=\"https://colab.research.google.com/assets/colab-badge.svg\" alt=\"Open In Colab\"/></a>"
      ]
    },
    {
      "cell_type": "code",
      "metadata": {
        "id": "wXqANImSuDGn",
        "colab_type": "code",
        "outputId": "73d8b0e8-98fb-4cdc-8ae0-cc389b486a98",
        "colab": {
          "base_uri": "https://localhost:8080/",
          "height": 34
        }
      },
      "source": [
        "plotly.__version__"
      ],
      "execution_count": 0,
      "outputs": [
        {
          "output_type": "execute_result",
          "data": {
            "text/plain": [
              "'3.4.1'"
            ]
          },
          "metadata": {
            "tags": []
          },
          "execution_count": 4
        }
      ]
    },
    {
      "cell_type": "code",
      "metadata": {
        "id": "Pnsxndcay_ls",
        "colab_type": "code",
        "outputId": "62c0c813-16bc-4916-cd0a-bdb4fff3e9a5",
        "colab": {
          "base_uri": "https://localhost:8080/",
          "height": 17
        }
      },
      "source": [
        "from matplotlib import cm\n",
        "import pandas as pd\n",
        "import matplotlib.pyplot as plt\n",
        "import plotly\n",
        "import plotly.graph_objs as go\n",
        "plotly.offline.init_notebook_mode(connected=True)\n",
        "%matplotlib inline"
      ],
      "execution_count": 2,
      "outputs": [
        {
          "output_type": "display_data",
          "data": {
            "text/html": [
              "        <script type=\"text/javascript\">\n",
              "        window.PlotlyConfig = {MathJaxConfig: 'local'};\n",
              "        if (window.MathJax) {MathJax.Hub.Config({SVG: {font: \"STIX-Web\"}});}\n",
              "        if (typeof require !== 'undefined') {\n",
              "        require.undef(\"plotly\");\n",
              "        requirejs.config({\n",
              "            paths: {\n",
              "                'plotly': ['https://cdn.plot.ly/plotly-latest.min']\n",
              "            }\n",
              "        });\n",
              "        require(['plotly'], function(Plotly) {\n",
              "            window._Plotly = Plotly;\n",
              "        });\n",
              "        }\n",
              "        </script>\n",
              "        "
            ]
          },
          "metadata": {
            "tags": []
          }
        }
      ]
    },
    {
      "cell_type": "code",
      "metadata": {
        "id": "RVO4g1px1KbB",
        "colab_type": "code",
        "colab": {}
      },
      "source": [
        "!pip install -U -q PyDrive\n",
        "!pip install plotly --upgrade\n",
        "from pydrive.auth import GoogleAuth\n",
        "from pydrive.drive import GoogleDrive\n",
        "from google.colab import auth\n",
        "from oauth2client.client import GoogleCredentials\n",
        "import os\n",
        "\n",
        "#mount google drive\n",
        "auth.authenticate_user()\n",
        "gauth = GoogleAuth()\n",
        "gauth.credentials = GoogleCredentials.get_application_default()\n",
        "drive = GoogleDrive(gauth)"
      ],
      "execution_count": 0,
      "outputs": []
    },
    {
      "cell_type": "code",
      "metadata": {
        "id": "GXaPbEUy24bD",
        "colab_type": "code",
        "colab": {}
      },
      "source": [
        "#classEvents.pkl was created prior from csv files 178MB\n",
        "df = pd.read_pickle('/content/drive/My Drive/Colab Notebooks/7214/classEvents.pkl')"
      ],
      "execution_count": 0,
      "outputs": []
    },
    {
      "cell_type": "code",
      "metadata": {
        "id": "1k6DJiiO-w0W",
        "colab_type": "code",
        "colab": {}
      },
      "source": [
        "#Users that participated every week of the course\n",
        "usersFullParticipation = pd.Series(df[df['timecreated']>'08-2016'].set_index('timecreated').groupby([pd.Grouper(\n",
        "    freq='W'),'username'])['eventname'].count().to_frame().unstack(\n",
        ").dropna(axis=1).columns.get_level_values(1).values)\n",
        "\n",
        "#count the activities for users listed\n",
        "dfUserActivities = df[df['username'].isin(usersFullParticipation)]['username'].value_counts().to_frame()\n",
        "\n",
        "#average events for the time\n",
        "df2= df[df['username'].isin(usersFullParticipation)].set_index(\n",
        "    'timecreated').groupby(pd.Grouper(freq='W'))['username'].count().to_frame()/1375\n",
        "\n",
        "#Users at the quartiles\n",
        "usersAtQuartiles = ['user8735150468524670977','user744859621046353921','user1235479718157877249']"
      ],
      "execution_count": 0,
      "outputs": []
    },
    {
      "cell_type": "code",
      "metadata": {
        "id": "As1L1ZfpNIZo",
        "colab_type": "code",
        "outputId": "11747bcf-a0d6-427c-a56d-3cdbaded761c",
        "colab": {
          "base_uri": "https://localhost:8080/",
          "height": 85
        }
      },
      "source": [
        "print('Number of students:',len(usersFullParticipation))\n",
        "print('75th quantile:',dfUserActivities.quantile(.75).values[0])\n",
        "print('50th quantile:',dfUserActivities.quantile(.5).values[0])\n",
        "print('25th quantile:',dfUserActivities.quantile(.25).values[0])"
      ],
      "execution_count": 13,
      "outputs": [
        {
          "output_type": "stream",
          "text": [
            "Number of students: 1375\n",
            "75th quantile: 739.0\n",
            "50th quantile: 304.0\n",
            "25th quantile: 87.5\n"
          ],
          "name": "stdout"
        }
      ]
    },
    {
      "cell_type": "code",
      "metadata": {
        "id": "3XGgFyrkR-Ax",
        "colab_type": "code",
        "colab": {}
      },
      "source": [
        "#plot group mean events by time dashed line\n",
        "df2.plot(linewidth=4.0,figsize=(10,10),legend=False,color='gray',linestyle='--')\n",
        "for i in usersAtQuartiles:\n",
        "  df[df['username']==i].set_index('timecreated').groupby(pd.Grouper(\n",
        "      freq='W'))['username'].count().plot() #plot quartile users"
      ],
      "execution_count": 0,
      "outputs": []
    },
    {
      "cell_type": "code",
      "metadata": {
        "id": "-uJI9VZey_l4",
        "colab_type": "code",
        "colab": {}
      },
      "source": [
        "#df = pd.read_csv('data/mdl_logstore_standard_log.csv')\n",
        "cols = ['username','eventname','component', 'action', 'target','objecttable', 'objectid',\n",
        "       'edulevel','contextlevel','courseid','other','timecreated']\n",
        "topActions = ['viewed','sent','created','uploaded','called','updated','deleted']\n",
        "#df['timecreated'] = pd.to_datetime(df['timecreated'],unit='s')\n",
        "#df = df[(df['timecreated']>'2016-07-27')&(df['timecreated']<'2016-09-10')]\n",
        "df = df[cols]\n",
        "#df = df[df['username']=='user7619359643386511361']"
      ],
      "execution_count": 0,
      "outputs": []
    },
    {
      "cell_type": "code",
      "metadata": {
        "id": "ltV2KuGty_mC",
        "colab_type": "code",
        "colab": {}
      },
      "source": [
        "#actions we are focusing on per the model\n",
        "allActions = df[(df['action'].isin(['viewed','sent','called','created','updated','added']))].groupby([pd.Grouper(\n",
        "    key='timecreated', freq='12H'),'action'])['action']\\\n",
        "    .count().to_frame().unstack()#.plot(figsize=(10,10))\n",
        "allActions = allActions['action']\n",
        "#to percentages\n",
        "allActionsPct = allActions.divide(allActions.sum(axis=1), axis=0)#.plot.area(figsize=(10,10))\n",
        "#allActions.to_pickle('data/allActions_2016-07-27thru2016-09-10.pkl')"
      ],
      "execution_count": 0,
      "outputs": []
    },
    {
      "cell_type": "code",
      "metadata": {
        "id": "s8ty2wwyDetT",
        "colab_type": "code",
        "colab": {
          "base_uri": "https://localhost:8080/",
          "height": 34
        },
        "outputId": "8969cfda-c7db-4da4-dd82-ef084515a54b"
      },
      "source": [
        "df['edulevel'].astype('category').memory_usage()"
      ],
      "execution_count": 36,
      "outputs": [
        {
          "output_type": "execute_result",
          "data": {
            "text/plain": [
              "11931188"
            ]
          },
          "metadata": {
            "tags": []
          },
          "execution_count": 36
        }
      ]
    },
    {
      "cell_type": "code",
      "metadata": {
        "id": "BPeqbqEfs7Cu",
        "colab_type": "code",
        "outputId": "6ca18c40-a253-44f4-e776-06cfe605e242",
        "colab": {
          "base_uri": "https://localhost:8080/",
          "height": 142
        }
      },
      "source": [
        "dfUserActivities[dfUserActivities['username']==302]"
      ],
      "execution_count": 0,
      "outputs": [
        {
          "output_type": "execute_result",
          "data": {
            "text/html": [
              "<div>\n",
              "<style scoped>\n",
              "    .dataframe tbody tr th:only-of-type {\n",
              "        vertical-align: middle;\n",
              "    }\n",
              "\n",
              "    .dataframe tbody tr th {\n",
              "        vertical-align: top;\n",
              "    }\n",
              "\n",
              "    .dataframe thead th {\n",
              "        text-align: right;\n",
              "    }\n",
              "</style>\n",
              "<table border=\"1\" class=\"dataframe\">\n",
              "  <thead>\n",
              "    <tr style=\"text-align: right;\">\n",
              "      <th></th>\n",
              "      <th>username</th>\n",
              "    </tr>\n",
              "  </thead>\n",
              "  <tbody>\n",
              "    <tr>\n",
              "      <th>user2090509038507786241</th>\n",
              "      <td>302</td>\n",
              "    </tr>\n",
              "    <tr>\n",
              "      <th>user7449226217741352961</th>\n",
              "      <td>302</td>\n",
              "    </tr>\n",
              "    <tr>\n",
              "      <th>user2362562136871272449</th>\n",
              "      <td>302</td>\n",
              "    </tr>\n",
              "  </tbody>\n",
              "</table>\n",
              "</div>"
            ],
            "text/plain": [
              "                         username\n",
              "user2090509038507786241       302\n",
              "user7449226217741352961       302\n",
              "user2362562136871272449       302"
            ]
          },
          "metadata": {
            "tags": []
          },
          "execution_count": 34
        }
      ]
    },
    {
      "cell_type": "code",
      "metadata": {
        "id": "dJkDXHKAwsjD",
        "colab_type": "code",
        "outputId": "08e8bf8e-9461-4ca3-a6ac-4f5278a5f096",
        "colab": {
          "base_uri": "https://localhost:8080/",
          "height": 600
        }
      },
      "source": [
        "df[(df['action'].isin(['viewed','sent','called','created','updated','added']))&(\n",
        "    df['username']=='user3189706223138111489')].groupby([pd.Grouper(\n",
        "    key='timecreated', freq='12H'),'action'])['action']\\\n",
        ".count().to_frame().unstack().plot(figsize=(10,10))"
      ],
      "execution_count": 24,
      "outputs": [
        {
          "output_type": "execute_result",
          "data": {
            "text/plain": [
              "<matplotlib.axes._subplots.AxesSubplot at 0x7fdc9300b390>"
            ]
          },
          "metadata": {
            "tags": []
          },
          "execution_count": 24
        },
        {
          "output_type": "display_data",
          "data": {
            "image/png": "[encoded data removed]",
            "text/plain": [
              "<Figure size 720x720 with 1 Axes>"
            ]
          },
          "metadata": {
            "tags": []
          }
        }
      ]
    },
    {
      "cell_type": "code",
      "metadata": {
        "id": "zD9PhB8CsPuC",
        "colab_type": "code",
        "outputId": "094580a5-da5c-475b-cb8a-a84afbb621eb",
        "colab": {
          "base_uri": "https://localhost:8080/",
          "height": 600
        }
      },
      "source": [
        "medaction = df[(df['action'].isin(['viewed','sent','called','created','updated','added']))&(\n",
        "    df['username']=='user3189706223138111489')].groupby([pd.Grouper(\n",
        "    key='timecreated', freq='12H'),'action'])['action']\\\n",
        ".count().to_frame().unstack()#.plot(figsize=(10,10))\n",
        "\n",
        "medaction.divide(medaction.sum(axis=1), axis=0).plot.area(figsize=(10,10))"
      ],
      "execution_count": 25,
      "outputs": [
        {
          "output_type": "execute_result",
          "data": {
            "text/plain": [
              "<matplotlib.axes._subplots.AxesSubplot at 0x7fdc8d9669e8>"
            ]
          },
          "metadata": {
            "tags": []
          },
          "execution_count": 25
        },
        {
          "output_type": "display_data",
          "data": {
            "image/png": "[encoded data removed]",
            "text/plain": [
              "<Figure size 720x720 with 1 Axes>"
            ]
          },
          "metadata": {
            "tags": []
          }
        }
      ]
    },
    {
      "cell_type": "code",
      "metadata": {
        "id": "EU4-QOPAdZRV",
        "colab_type": "code",
        "outputId": "ff99b681-a9f1-452a-a0de-4c42018d7c71",
        "colab": {
          "base_uri": "https://localhost:8080/",
          "height": 153
        }
      },
      "source": [
        "df[df['eventname'].str.contains('blog')]['eventname'].value_counts()"
      ],
      "execution_count": 29,
      "outputs": [
        {
          "output_type": "execute_result",
          "data": {
            "text/plain": [
              "\\core\\event\\blog_entries_viewed         2379\n",
              "\\core\\event\\blog_entry_updated           331\n",
              "\\core\\event\\blog_entry_created           252\n",
              "\\core\\event\\blog_association_created     135\n",
              "\\core\\event\\blog_comment_created          66\n",
              "\\core\\event\\blog_entry_deleted            10\n",
              "\\core\\event\\blog_comment_deleted           1\n",
              "Name: eventname, dtype: int64"
            ]
          },
          "metadata": {
            "tags": []
          },
          "execution_count": 29
        }
      ]
    },
    {
      "cell_type": "code",
      "metadata": {
        "id": "xcbbMaHdUz5Y",
        "colab_type": "code",
        "colab": {}
      },
      "source": [
        "list(df['eventname'].value_counts().keys())"
      ],
      "execution_count": 0,
      "outputs": []
    },
    {
      "cell_type": "code",
      "metadata": {
        "id": "54rp9ln6LIbE",
        "colab_type": "code",
        "colab": {}
      },
      "source": [
        "df[(df['action'].isin(['viewed','sent','called','created','updated','added']))&(df['username']=='user7619359643386511361')].groupby([pd.Grouper(\n",
        "    key='timecreated', freq='12H'),'action'])['action']\\\n",
        "    .count().to_frame().unstack().plot()"
      ],
      "execution_count": 0,
      "outputs": []
    },
    {
      "cell_type": "code",
      "metadata": {
        "id": "p_lBXG4rFFMS",
        "colab_type": "code",
        "colab": {}
      },
      "source": [
        "allActions.plot()"
      ],
      "execution_count": 0,
      "outputs": []
    },
    {
      "cell_type": "code",
      "metadata": {
        "id": "W-1toASRy_mE",
        "colab_type": "code",
        "colab": {}
      },
      "source": [
        "#get action for top 50 users\n",
        "top50users = df[(df['timecreated']>'2016-07-27')&(df[\n",
        "    'timecreated']<'2016-09-10')]['username'].value_counts()[\n",
        "    :50]#.plot.bar()\n",
        "#top50users.to_pickle('data/top50users.pkl')\n",
        "\n",
        "actionByTop50Users = {}\n",
        "for u in top50users.keys():\n",
        "    actionByTop50Users[u] = df[(df['username']==u)&(df['action'].isin(['viewed','sent','called','created','updated','added']))\\\n",
        "                       &(df['timecreated']>'2016-07-27')&(df['timecreated']<'2016-09-10')].groupby([pd.Grouper(key='timecreated',\\\n",
        "                       freq='12H'),'action'])['action'].count().to_frame().unstack()\n",
        "    actionByTop50Users[u] = actionByTop50Users[u].divide(actionByTop50Users[u].sum(axis=1), axis=0)\n",
        "    #.plot.area(figsize=(10,10),title=u)\n",
        "\n",
        "#pd.to_pickle(actionByTop50Users, 'data/actionByTop50Users_2016-07-27thru2016-09-10.pkl')"
      ],
      "execution_count": 0,
      "outputs": []
    },
    {
      "cell_type": "code",
      "metadata": {
        "id": "I7WBr7J_y_mH",
        "colab_type": "code",
        "colab": {}
      },
      "source": [
        "dfA = pd.read_pickle('data/actionByTop50Users_2016-07-27thru2016-09-10.pkl')\n",
        "top50users = pd.read_pickle('data/top50users.pkl')"
      ],
      "execution_count": 0,
      "outputs": []
    },
    {
      "cell_type": "code",
      "metadata": {
        "id": "mvFrGWSsy_mJ",
        "colab_type": "code",
        "colab": {}
      },
      "source": [
        "#Prints an area graph of percentage, \n",
        "#meaning when one value goes up another goes down.\n",
        "c = 0\n",
        "for k,v in df.items():\n",
        "    if c == 10:\n",
        "        break\n",
        "    df[k].plot.area(figsize=(10,10),title=k)\n",
        "    c += 1"
      ],
      "execution_count": 0,
      "outputs": []
    },
    {
      "cell_type": "code",
      "metadata": {
        "id": "aO7pay9hy_mM",
        "colab_type": "code",
        "colab": {}
      },
      "source": [
        "#Use this as an example\n",
        "for i in range(79):\n",
        "    data = [go.Scatterpolar(\n",
        "      r = dfA['user7619359643386511361']['action'].iloc[i].values,\n",
        "      theta = dfA['user7619359643386511361']['action'].iloc[i].keys(),\n",
        "      fill = 'toself'\n",
        "    )]\n",
        "\n",
        "    layout = go.Layout(\n",
        "      polar = dict(\n",
        "        radialaxis = dict(\n",
        "          visible = True,\n",
        "          range = [0, .6]\n",
        "        )\n",
        "      ),\n",
        "      showlegend = False,\n",
        "        title=str(dfA['user7619359643386511361']['action'].iloc[i].name)\n",
        "    )\n",
        "\n",
        "    fig = go.Figure(data=data, layout=layout)\n",
        "    plotly.offline.iplot(fig)"
      ],
      "execution_count": 0,
      "outputs": []
    },
    {
      "cell_type": "code",
      "metadata": {
        "id": "L3G40Uy6y_mP",
        "colab_type": "code",
        "colab": {}
      },
      "source": [
        "df[(df['timecreated']>'2016-07-27')&(df['timecreated']<'2016-09-10')&(\n",
        "    df['action']=='uploaded')]['other'].iloc[6001]"
      ],
      "execution_count": 0,
      "outputs": []
    },
    {
      "cell_type": "code",
      "metadata": {
        "id": "noLVUBL7y_mS",
        "colab_type": "code",
        "colab": {}
      },
      "source": [
        "dfA['user7619359643386511361'].plot.area(figsize=(10,10))"
      ],
      "execution_count": 0,
      "outputs": []
    },
    {
      "cell_type": "code",
      "metadata": {
        "id": "jcsIB04wy_mU",
        "colab_type": "code",
        "colab": {}
      },
      "source": [
        "df[(df['username']=='user3189706223138111489')&(df['action'].isin(topActions))].set_index(\n",
        "    'timecreated').groupby([pd.Grouper(freq=\"D\"),'action'])['action'].count()\\\n",
        "    .to_frame().unstack().plot()"
      ],
      "execution_count": 0,
      "outputs": []
    },
    {
      "cell_type": "code",
      "metadata": {
        "id": "zksSD5Ejy_mW",
        "colab_type": "code",
        "colab": {}
      },
      "source": [
        "df[(df['username']=='user7619359643386511361')&(df['action'].isin(topActions))].set_index(\n",
        "    'timecreated').groupby([pd.Grouper(freq=\"2D\"),'action'])['action'].count()\\\n",
        ".to_frame().unstack().plot()"
      ],
      "execution_count": 0,
      "outputs": []
    },
    {
      "cell_type": "code",
      "metadata": {
        "id": "ySnUsF63y_mZ",
        "colab_type": "code",
        "colab": {}
      },
      "source": [
        "df[(df['username']=='user7619359643386511361')&(df['action'].isin(topActions))].set_index(\n",
        "    'timecreated').groupby([pd.Grouper(freq=\"12H\"),'action'])['action'].count()\\\n",
        ".to_frame().unstack().plot()"
      ],
      "execution_count": 0,
      "outputs": []
    },
    {
      "cell_type": "code",
      "metadata": {
        "id": "mUHlSuQfy_mc",
        "colab_type": "code",
        "colab": {}
      },
      "source": [
        "actionByTopUser = df[(df['username']=='user7619359643386511361')&(df['action'].isin(\n",
        "    topActions))&(df['timecreated']>'2016-07-27')&(df['timecreated']<'2016-09-10')].groupby(\n",
        "    [pd.Grouper(key='timecreated',freq='12H'),'action'])['action'].count().to_frame().unstack()\n",
        "actionByTopUser = actionByTopUser[u].divide(actionByTopUser.sum(axis=1), axis=0)"
      ],
      "execution_count": 0,
      "outputs": []
    },
    {
      "cell_type": "code",
      "metadata": {
        "id": "FmUZoXnpy_md",
        "colab_type": "code",
        "colab": {}
      },
      "source": [
        "actionByTopUser2D = df[(df['username']=='user7619359643386511361')&(df['action'].isin(\n",
        "    topActions))].groupby([pd.Grouper(key='timecreated',freq='2D'),'action'])[\n",
        "    'action'].count().to_frame().unstack()\n",
        "actionByTopUser2D = actionByTopUser2D.divide(actionByTopUser2D.sum(axis=1), axis=0)"
      ],
      "execution_count": 0,
      "outputs": []
    },
    {
      "cell_type": "code",
      "metadata": {
        "id": "JS7IyN8Gy_mf",
        "colab_type": "code",
        "colab": {}
      },
      "source": [
        "actionByTopUser2Di = df[df['action'].isin(topActions)].groupby([pd.Grouper(\n",
        "    key='timecreated',freq='2D'),'action'])['action'].count().to_frame().unstack()\n",
        "#actionByTopUser2D = actionByTopUser2D.divide(actionByTopUser2D.sum(axis=1), axis=0)"
      ],
      "execution_count": 0,
      "outputs": []
    },
    {
      "cell_type": "code",
      "metadata": {
        "id": "K2rOppYyy_mg",
        "colab_type": "code",
        "colab": {}
      },
      "source": [
        "actionByTopUser3Di = df[(df['username']=='user3189706223138111489')&(df['action'].isin(\n",
        "    topActions))].groupby([pd.Grouper(key='timecreated',freq='3D'),'action'])[\n",
        "    'action'].count().to_frame().unstack()\n",
        "#actionByTopUser2D = actionByTopUser2D.divide(actionByTopUser2D.sum(axis=1), axis=0)"
      ],
      "execution_count": 0,
      "outputs": []
    },
    {
      "cell_type": "code",
      "metadata": {
        "id": "Rsgor9gDy_mi",
        "colab_type": "code",
        "colab": {}
      },
      "source": [
        "actionByTopUser.plot.area()"
      ],
      "execution_count": 0,
      "outputs": []
    },
    {
      "cell_type": "code",
      "metadata": {
        "id": "bQKmVWdAy_mk",
        "colab_type": "code",
        "colab": {}
      },
      "source": [
        "actionByTopUser1D.plot.area()"
      ],
      "execution_count": 0,
      "outputs": []
    },
    {
      "cell_type": "code",
      "metadata": {
        "id": "RR61sKFUy_mo",
        "colab_type": "code",
        "colab": {}
      },
      "source": [
        "#actionByTopUser2D = actionByTopUser2Di.divide(actionByTopUser2Di.sum(axis=1), axis=0)\n",
        "actionByTopUser2D.plot.area(figsize=(10,10))"
      ],
      "execution_count": 0,
      "outputs": []
    },
    {
      "cell_type": "code",
      "metadata": {
        "id": "xpavD7fBy_mp",
        "colab_type": "code",
        "colab": {}
      },
      "source": [
        "actionByTopUser2Di.plot(figsize=(10,10))"
      ],
      "execution_count": 0,
      "outputs": []
    },
    {
      "cell_type": "code",
      "metadata": {
        "id": "_5qB1omuy_mr",
        "colab_type": "code",
        "colab": {}
      },
      "source": [
        "actionByTopUser2Di.plot.area(figsize=(10,10))"
      ],
      "execution_count": 0,
      "outputs": []
    },
    {
      "cell_type": "code",
      "metadata": {
        "id": "eNvovs7sy_mt",
        "colab_type": "code",
        "colab": {}
      },
      "source": [
        "actionByTopUser3Di.plot()"
      ],
      "execution_count": 0,
      "outputs": []
    },
    {
      "cell_type": "code",
      "metadata": {
        "id": "TgUAQumsy_mu",
        "colab_type": "code",
        "colab": {}
      },
      "source": [
        "#Use this as an example\n",
        "for i in range(77):\n",
        "    data = [go.Scatterpolar(\n",
        "      r = actionByTopUser['action'].iloc[i].values,\n",
        "      theta = actionByTopUser['action'].iloc[i].keys(),\n",
        "      fill = 'toself'\n",
        "    )]\n",
        "\n",
        "    layout = go.Layout(\n",
        "      polar = dict(\n",
        "        radialaxis = dict(\n",
        "          visible = True,\n",
        "          range = [0, .5]\n",
        "        )\n",
        "      ),\n",
        "      showlegend = False,\n",
        "        title=str(actionByTopUser['action'].iloc[i].name)\n",
        "    )\n",
        "\n",
        "    fig = go.Figure(data=data, layout=layout)\n",
        "    plotly.offline.iplot(fig)"
      ],
      "execution_count": 0,
      "outputs": []
    },
    {
      "cell_type": "code",
      "metadata": {
        "id": "e-NSeqe_y_mw",
        "colab_type": "code",
        "colab": {}
      },
      "source": [
        "#Use this as an example\n",
        "for i in range(40):\n",
        "    data = [go.Scatterpolar(\n",
        "      r = actionByTopUser1D['action'].iloc[i].values,\n",
        "      theta = actionByTopUser1D['action'].iloc[i].keys(),\n",
        "      fill = 'toself'\n",
        "    )]\n",
        "\n",
        "    layout = go.Layout(\n",
        "      polar = dict(\n",
        "        radialaxis = dict(\n",
        "          visible = True,\n",
        "          range = [0, .5]\n",
        "        )\n",
        "      ),\n",
        "      showlegend = False,\n",
        "        title=str(actionByTopUser1D['action'].iloc[i].name)\n",
        "    )\n",
        "\n",
        "    fig = go.Figure(data=data, layout=layout)\n",
        "    plotly.offline.iplot(fig)"
      ],
      "execution_count": 0,
      "outputs": []
    },
    {
      "cell_type": "code",
      "metadata": {
        "id": "MDMuq9-Ey_my",
        "colab_type": "code",
        "colab": {}
      },
      "source": [
        "#Use this as an example\n",
        "for i in range(20):\n",
        "    data = [go.Scatterpolar(\n",
        "      r = actionByTopUser2D['action'].iloc[i].values,\n",
        "      theta = actionByTopUser2D['action'].iloc[i].keys(),\n",
        "      fill = 'toself'\n",
        "    )]\n",
        "\n",
        "    layout = go.Layout(\n",
        "      polar = dict(\n",
        "        radialaxis = dict(\n",
        "          visible = True,\n",
        "          range = [0, .3]\n",
        "        )\n",
        "      ),\n",
        "      showlegend = False,\n",
        "        title=str(actionByTopUser2D['action'].iloc[i].name)\n",
        "    )\n",
        "\n",
        "    fig = go.Figure(data=data, layout=layout)\n",
        "    plotly.offline.iplot(fig)"
      ],
      "execution_count": 0,
      "outputs": []
    },
    {
      "cell_type": "code",
      "metadata": {
        "scrolled": false,
        "id": "WfgKsOeUy_m0",
        "colab_type": "code",
        "colab": {}
      },
      "source": [
        "#Use this as an example\n",
        "for i in range(20):\n",
        "    data = [go.Scatterpolar(\n",
        "      r = actionByTopUser2Di['action'].iloc[i].values,\n",
        "      theta = actionByTopUser2Di['action'].iloc[i].keys(),\n",
        "      fill = 'toself'\n",
        "    )]\n",
        "\n",
        "    layout = go.Layout(\n",
        "      polar = dict(\n",
        "        radialaxis = dict(\n",
        "          visible = True,\n",
        "          range = [0, 500]\n",
        "        )\n",
        "      ),\n",
        "      showlegend = False,\n",
        "        title=str(actionByTopUser2Di['action'].iloc[i].name)\n",
        "    )\n",
        "\n",
        "    fig = go.Figure(data=data, layout=layout)\n",
        "    plotly.offline.iplot(fig)"
      ],
      "execution_count": 0,
      "outputs": []
    },
    {
      "cell_type": "code",
      "metadata": {
        "id": "mJ7v5Pdlrhbc",
        "colab_type": "code",
        "colab": {}
      },
      "source": [
        "actionByTopUser3Di['action'].iloc[2]#.keys()"
      ],
      "execution_count": 0,
      "outputs": []
    },
    {
      "cell_type": "code",
      "metadata": {
        "id": "EDBjV0yxrz6G",
        "colab_type": "code",
        "colab": {}
      },
      "source": [
        "enable_plotly_in_cell()\n",
        "data = [go.Scatterpolar(\n",
        "      r = actionByTopUser3Di['action'].iloc[2].values,\n",
        "      theta = actionByTopUser3Di['action'].iloc[2].keys(),\n",
        "      fill = 'toself'\n",
        "    )]\n",
        "\n",
        "layout = go.Layout(\n",
        "      polar = dict(\n",
        "        radialaxis = dict(\n",
        "          visible = True,\n",
        "          range = [0, 30]\n",
        "        )\n",
        "      ),\n",
        "      showlegend = False,\n",
        "      title=str(actionByTopUser3Di['action'].iloc[2].name)\n",
        ")\n",
        "fig = go.Figure(data=data, layout=layout)\n",
        "plotly.offline.iplot(fig)"
      ],
      "execution_count": 0,
      "outputs": []
    },
    {
      "cell_type": "code",
      "metadata": {
        "id": "BxShtzohy_m1",
        "colab_type": "code",
        "colab": {}
      },
      "source": [
        "#Use this as an example\n",
        "enable_plotly_in_cell()\n",
        "for i in range(12):\n",
        "    data = [go.Scatterpolar(\n",
        "      r = actionByTopUser3Di['action'].iloc[i].values,\n",
        "      theta = actionByTopUser3Di['action'].iloc[i].keys(),\n",
        "      fill = 'toself'\n",
        "    )]\n",
        "\n",
        "    layout = go.Layout(\n",
        "      polar = dict(\n",
        "        radialaxis = dict(\n",
        "          visible = True,\n",
        "          range = [0, 20]\n",
        "        )\n",
        "      ),\n",
        "      showlegend = False,\n",
        "        title=str(actionByTopUser3Di['action'].iloc[i].name)\n",
        "    )\n",
        "\n",
        "    fig = go.Figure(data=data, layout=layout)\n",
        "    plotly.offline.iplot(fig)"
      ],
      "execution_count": 0,
      "outputs": []
    },
    {
      "cell_type": "code",
      "metadata": {
        "id": "B07UykOhy_m3",
        "colab_type": "code",
        "colab": {}
      },
      "source": [
        "df['component'].value_counts()"
      ],
      "execution_count": 0,
      "outputs": []
    },
    {
      "cell_type": "code",
      "metadata": {
        "id": "_5lsekfPy_m4",
        "colab_type": "code",
        "colab": {}
      },
      "source": [
        "mikeEvents = df.groupby(['component','eventname'])['username'].count().to_frame(name='eventcount')"
      ],
      "execution_count": 0,
      "outputs": []
    },
    {
      "cell_type": "code",
      "metadata": {
        "id": "_Ni1Jc6dy_m5",
        "colab_type": "code",
        "colab": {}
      },
      "source": [
        "mikeEvents.loc['core'].sort_values(by='eventcount',ascending=False)"
      ],
      "execution_count": 0,
      "outputs": []
    },
    {
      "cell_type": "code",
      "metadata": {
        "id": "hTWi1Ik0wrPH",
        "colab_type": "code",
        "colab": {}
      },
      "source": [
        "def enable_plotly_in_cell():\n",
        "  import IPython\n",
        "  from plotly.offline import init_notebook_mode\n",
        "  display(IPython.core.display.HTML('''\n",
        "        <script src=\"/static/components/requirejs/require.js\"></script>\n",
        "  '''))\n",
        "  init_notebook_mode(connected=False)"
      ],
      "execution_count": 0,
      "outputs": []
    }
  ]
}